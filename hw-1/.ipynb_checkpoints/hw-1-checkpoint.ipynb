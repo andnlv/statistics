{
 "cells": [
  {
   "cell_type": "markdown",
   "metadata": {},
   "source": [
    "# Домашнее задание по статистике №1"
   ]
  },
  {
   "cell_type": "markdown",
   "metadata": {},
   "source": [
    "## Задача 1\n",
    "\n",
    "$$\\mathbf{X_n} = \\big\\{X_1, \\dots, X_n\\big\\} \\sim \\mathcal{N}(0, \\sigma^2)$$\n",
    "\n",
    "$$\\widehat\\sigma_n = \\overline{\\left|\\mathbf{X_n}\\right|} = \\frac{1}{n} \\sum_{i=1}^n \\left|X_i\\right|$$\n",
    "\n",
    "$$\\mathbb{E}\\widehat\\sigma_n = \\mathbb{E}\\left|\\mathbf{X_n}\\right| = 2 \\int\\limits_0^\\infty \\frac{1}{\\sqrt{2\\pi\\sigma^2}}e^{-\\frac{x^2}{2\\sigma^2}}xdx = \\sqrt\\frac{2}{\\pi}\\sigma\\int\\limits_0^\\infty e^{-t}dt = \\sqrt{\\frac{2}{\\pi}}\\sigma$$\n",
    "\n",
    "$$bias\\left(\\widehat\\sigma_n\\right) = \\left( \\sqrt\\frac{2}{\\pi} - 1 \\right) \\sigma $$\n",
    "\n",
    "Оенка смещенная. Несмещённой оценкой будет оценка\n",
    "$$\\widetilde\\sigma_n = \\sqrt\\frac{\\pi}{2}\\ \\overline{\\left|\\mathbf{X_n}\\right|}$$\n",
    "\n",
    "$$se\\left(\\widetilde\\sigma_n\\right) = \\sqrt{\\mathbb{V\\ \\widetilde\\sigma_n}} = \\sqrt{\\frac{\\pi}{2n}\\left(\\sigma^2 - \\frac{2}{\\pi}\\sigma^2\\right)} = \\frac{\\sigma}{\\sqrt{n}} \\sqrt{\\frac{\\pi}{2} - 1}$$\n",
    "\n",
    "Поскольку bias новой оценки равен нулю, то $$MSE = se^2 = \\frac{\\sigma^2}{n}\\left(\\frac{\\pi}{2} - 1\\right)$$"
   ]
  },
  {
   "cell_type": "markdown",
   "metadata": {},
   "source": [
    "## Задача 2\n",
    "\n",
    "$$\\mathbf{X_n} = \\big\\{X_1, \\dots, X_n\\big\\},\\ F_{X_i}(x) = \\left(1 - e^{\\theta - x}\\right) \\text{I}(x > \\theta)$$\n",
    "\n",
    "$$\\widehat\\theta_n = X_{(1)} - \\frac{1}{n}$$\n",
    "\n",
    "$$ F_{X_{(1)}}(x) = e^{\\theta - x}\\ \\text{I}(x > \\theta) = 1 - \\left(1 - F_{X_i}(x)\\right)^n = \\left(1 - e^{n(\\theta - x)}\\right) \\text{I}(x > \\theta)$$\n",
    "$$\\mathbb{E}\\widehat\\theta_n = \\theta + \\frac{1}{n} - \\frac{1}{n} = \\theta$$\n",
    "\n",
    "$$se\\left(\\widehat\\theta_n\\right) = \\sqrt{\\mathbb{V\\ \\widehat\\theta_n}} = \\frac{1}{n}$$\n",
    "\n",
    "$$MSE = se^2 = \\frac{1}{n^2}$$"
   ]
  },
  {
   "cell_type": "markdown",
   "metadata": {},
   "source": [
    "## Задача 3\n",
    "\n",
    "$$\\hat F_n(x) = \\frac{1}{n}\\sum_{i=1}^{n} \\text{I}(X_i < x),\\ X_i \\sim F(x)$$\n",
    "\n",
    "$$cov(\\hat F_n(x), \\hat F_n(y)) = \\mathbb{E}\\left(\\hat F_n(x) - F(x)\\right)\\left(\\hat F_n(y) - F(y)\\right) = \\mathbb{E}\\left(\\hat F_n(x) \\hat F_n(y)\\right) - F(x)F(y) = \\\\\n",
    "= \\frac{1}{n^2}\\mathbb{E}\\left(\\sum_{1 \\leq i < j \\leq n} \\text{I}(X_i < x)\\text{I}(X_j < y) + \\sum_{i=1}^n \\text{I}(X_i < x)\\text{I}(X_i < y)\\right) - F(x)F(y) = \\\\ = \\frac{n(n-1)}{n^2}F(x)F(y) + \\frac{1}{n}F(min(x, y)) - F(x)F(y) = \\frac{F(min(x, y)) - F(x)F(y)}{n}$$"
   ]
  },
  {
   "cell_type": "markdown",
   "metadata": {},
   "source": [
    "## Задача 4\n",
    "\n",
    "$$\\hat F_n(x) = \\frac{1}{n}\\sum_{i=1}^{n} \\text{I}(X_i < x),\\ X_i \\sim F(x)$$\n",
    "\n",
    "$$ T = F(a) - F(b) $$\n",
    "$$\\widehat \\theta_n = \\hat F_n(a) - \\hat F_n(b) $$\n",
    "\n",
    "$$se\\left(\\widehat\\theta_n\\right) = \\sqrt{cov(\\hat F_n(a) - \\hat F_n(b), \\hat F_n(a) - \\hat F_n(b))} = \\sqrt{\\frac{F(a) - F^2(a)+ F(b) - F^2(b) - 2F(b) + 2F(a)F(b)}{n}} = \\sqrt{\\frac{T - T^2}{n}}$$\n",
    "\n",
    "$$\\widehat{se}\\left(\\widehat\\theta_n\\right) = \\sqrt{\\frac{\\widehat \\theta_n - \\widehat \\theta_n^2}{n}}$$\n",
    "\n",
    "Получим доверительный интервал с помощью неравенства Чебышёва\n",
    "\n",
    "$$ P\\left(\\big|\\widehat\\theta_n - T \\big| > \\varepsilon\\right) < \\frac{\\mathbb{V}\\widehat\\theta_n}{\\varepsilon^2}$$ \n",
    "$$ P\\left(\\big(\\widehat\\theta_n - T \\big)^2 < \\varepsilon^2\\right) > 1 - \\frac{se^2\\left(\\widehat\\theta_n\\right)}{\\varepsilon^2} = 1 - \\alpha$$ \n",
    "$$ P\\left(\\big(\\widehat\\theta_n - T \\big)^2 < \\frac{T - T^2}{n\\alpha}\\right) > 1 - \\alpha$$\n",
    "\n",
    "Преобразуем выражение внутри вероятности:\n",
    "\n",
    "$$\\big(\\widehat\\theta_n - T \\big)^2 < \\frac{T - T^2}{n\\alpha}$$\n",
    "\n",
    "$$ (n\\alpha+1)T^2 - (2n\\alpha\\widehat\\theta_n + 1) T + n\\alpha\\widehat\\theta_n^2 < 0$$\n",
    "\n",
    "$$ \\left(T - \\frac{n\\alpha\\widehat\\theta_n + 0.5}{n\\alpha + 1}\\right)^2 < \\left(\\frac{n\\alpha\\widehat\\theta_n + 0.5}{n\\alpha + 1}\\right)^2 - \\frac{n\\alpha\\widehat\\theta_n^2}{n\\alpha + 1} = \\frac{n\\alpha(\\widehat\\theta_n - \\widehat\\theta_n^2) + 0.25}{(n\\alpha + 1)^2}$$\n",
    "\n",
    "Итого получаем доверительный интервал:\n",
    "\n",
    "$$ P\\left(\\frac{n\\alpha\\widehat\\theta_n + 0.5 - \\sqrt{n\\alpha(\\widehat\\theta_n - \\widehat\\theta_n^2) + 0.25}}{n\\alpha + 1} < T < \\frac{n\\alpha\\widehat\\theta_n + 0.5 + \\sqrt{n\\alpha(\\widehat\\theta_n - \\widehat\\theta_n^2) + 0.25}}{n\\alpha + 1}\\right) > 1 - \\alpha$$"
   ]
  },
  {
   "cell_type": "markdown",
   "metadata": {},
   "source": [
    "## Задача 5\n",
    "\n",
    "Оценки $\\hat F_n(x)$ из третьей задачи и $\\widehat\\theta_n(x)$ из четвёртой задачи имеют скхожую дисперсию и обе несмещены, значит доверительный интервал у них будет иметь одинаковый. Поэтому строим доверительный интервал полученный в четвёртой задаче"
   ]
  },
  {
   "cell_type": "code",
   "execution_count": 56,
   "metadata": {},
   "outputs": [],
   "source": [
    "import numpy as np\n",
    "import matplotlib.pyplot as plt\n",
    "import pandas as pd\n",
    "from statsmodels.distributions.empirical_distribution import ECDF\n",
    "%matplotlib inline\n",
    "\n",
    "def low(theta, alpha=0.05, n=1000):\n",
    "    na = n * alpha\n",
    "    return (na * theta + 0.5 - np.sqrt(na * (theta - theta*theta) + 0.25))/(na + 1)\n",
    "\n",
    "def high(theta, alpha=0.05, n=1000):\n",
    "    na = n * alpha\n",
    "    return (na * theta + 0.5 + np.sqrt(na * (theta - theta*theta) + 0.25))/(na + 1)\n",
    "    "
   ]
  },
  {
   "cell_type": "code",
   "execution_count": 5,
   "metadata": {},
   "outputs": [],
   "source": [
    "df = pd.read_table('fijiquakes.dat', delim_whitespace=True, index_col='Obs.')\n",
    "sample = df.mag.values"
   ]
  },
  {
   "cell_type": "code",
   "execution_count": 57,
   "metadata": {},
   "outputs": [
    {
     "data": {
      "image/png": "[encoded data removed]",
      "text/plain": [
       "<matplotlib.figure.Figure at 0x7f2576ccedd8>"
      ]
     },
     "metadata": {},
     "output_type": "display_data"
    }
   ],
   "source": [
    "F = ECDF(sample)\n",
    "X = np.linspace(3, 7, 1000)\n",
    "plt.figure(figsize=(12, 8))\n",
    "plt.fill_between(X, low(F(X)), high(F(X)), color=(0.5, 0.8, 1), label='confidence interval')\n",
    "plt.plot(X, F(X), color=(0, 0, 0.5), label=r'$\\hat F_n(x)$')\n",
    "plt.legend(prop={'size': 15})\n",
    "plt.title(\"Выборочная функция распределения магнитуды\")\n",
    "plt.show()"
   ]
  },
  {
   "cell_type": "code",
   "execution_count": 59,
   "metadata": {},
   "outputs": [
    {
     "name": "stdout",
     "output_type": "stream",
     "text": [
      "Оценка F(4.9) - F(4.3) - 0.526\n",
      "95% доверительный интервал - (0.456, 0.595)\n"
     ]
    }
   ],
   "source": [
    "theta = F(4.9) - F(4.3)\n",
    "print('Оценка F(4.9) - F(4.3) - {:.3f}'.format(theta))\n",
    "print('95% доверительный интервал - ({:.3f}, {:.3f})'.format(low(theta), high(theta)))"
   ]
  },
  {
   "cell_type": "markdown",
   "metadata": {},
   "source": [
    "## Задача 8\n",
    "\n",
    "$$\\mathbf{X_n} = \\big\\{X_1, \\dots, X_n\\big\\},\\ f_{X_i}(x) = \\lambda e^{\\lambda x} \\text{I}(x > \\theta)$$\n",
    "\n",
    "$$\\theta = e^{\\frac{1}{\\lambda}},\\ \\widehat\\theta_n = e^{\\overline{\\mathbf{X_n}}}$$\n",
    "\n",
    "Используя то, что сумма экспоненциальных распределений - гаусовское, а также закон преобразования плотностей, получаем плотность $\\widehat\\theta_n$:\n",
    "\n",
    "$$f_{\\widehat\\theta_n} (y) = \\left(n\\ln(y)\\right)^{n-1} \\frac{e^{-\\lambda n\\ln(y)}}{Г(n)} \\lambda^n\\cdot \\frac{n}{y}\\text{I}(y > 1) = \\frac{(\\lambda n)^n}{Г(n)}\\ln(y)^{n-1} \\cdot y^{-n\\lambda - 1}\\text{I}(y > 1)$$\n",
    "\n",
    "$$\\mathbb{E}\\widehat\\theta_n = \\int\\limits_1^\\infty \\frac{(\\lambda n)^n}{Г(n)}\\ln(y)^{n-1} \\cdot y^{-n\\lambda} dy = \\big\\langle y = e^{t/(\\lambda n - 1)} \\big\\rangle = \\frac{(\\lambda n)^n}{Г(n)(\\lambda n - 1)^n} \\int\\limits_0^\\infty p^{n-1}e^{-p}dp = \\frac{(\\lambda n)^n}{(\\lambda n - 1)^n} = \\left(1 - \\frac{1}{\\lambda n}\\right)^{-n}$$\n",
    "\n",
    "Оценка смещённая, но ассимптотически не смещённая:\n",
    "\n",
    "$$bias = \\left(1 - \\frac{1}{\\lambda n}\\right)^{-n} -\\ e^{\\frac{1}{\\lambda}} \\to 0$$\n",
    "\n",
    "$$\\mathbb{E}\\widehat\\theta_n^2 = \\int\\limits_1^\\infty \\frac{(\\lambda n)^n}{Г(n)}\\ln(y)^{n-1} \\cdot y^{-n\\lambda + 1} dy = \\big\\langle y = e^{t/(\\lambda n - 2)} \\big\\rangle = \\frac{(\\lambda n)^n}{Г(n)(\\lambda n - 2)^n} \\int\\limits_0^\\infty p^{n-1}e^{-p}dp = \\frac{(\\lambda n)^n}{(\\lambda n - 2)^n} = \\left(1 - \\frac{2}{\\lambda n}\\right)^{-n}$$\n",
    "\n",
    "$$\\mathbb{V}\\widehat\\theta_n = \\mathbb{E}\\widehat\\theta_n^2 - \\left(\\mathbb{E}\\widehat\\theta_n\\right)^2 = \\left(1 - \\frac{2}{\\lambda n}\\right)^{-n} - \\left(1 - \\frac{1}{\\lambda n}\\right)^{-2n} \\to 0$$\n",
    "\n",
    "Поскольку дисперия и $bias$ стремятся к нулю, то по неравенству Чебышёва получаем, что оценка состоятельная\n",
    "\n",
    "$$se = \\sqrt{\\left(1 - \\frac{2}{\\lambda n}\\right)^{-n} - \\left(1 - \\frac{1}{\\lambda n}\\right)^{-2n}}$$\n",
    "\n",
    "$$MSE = se^2 + bias^2 = \\left(1 - \\frac{2}{\\lambda n}\\right)^{-n} + 2\\left(1 - \\frac{1}{\\lambda n}\\right)^{-n}e^\\frac{1}{\\lambda} + e^\\frac{2}{\\lambda}$$"
   ]
  }
 ],
 "metadata": {
  "kernelspec": {
   "display_name": "Python 3",
   "language": "python",
   "name": "python3"
  },
  "language_info": {
   "codemirror_mode": {
    "name": "ipython",
    "version": 3
   },
   "file_extension": ".py",
   "mimetype": "text/x-python",
   "name": "python",
   "nbconvert_exporter": "python",
   "pygments_lexer": "ipython3",
   "version": "3.5.2"
  }
 },
 "nbformat": 4,
 "nbformat_minor": 2
}
