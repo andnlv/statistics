{
 "cells": [
  {
   "cell_type": "markdown",
   "metadata": {},
   "source": [
    "# Домашнее задание по статистике №3"
   ]
  },
  {
   "cell_type": "markdown",
   "metadata": {},
   "source": [
    "## Задача 1\n",
    "\n",
    "### Ошибки на предсказании и обучении\n",
    "\n",
    "$$\\Delta\\mathcal{R} = \\frac{1}{n} \\mathbb{E}_{\\boldsymbol{y}^{n}|\\boldsymbol{x}^{n}} \\sum_\\limits{i=1}^n \\mathbb{E}_{y_i^*|x_i}(y^*_i - a(x_i))^2 - \\frac{1}{n} \\mathbb{E}_{\\boldsymbol{y}^{n}|\\boldsymbol{x}^{n}} \\sum_\\limits{i=1}^n (y_i - a(x_i))^2 = $$\n",
    "$$ = \\frac{1}{n} \\mathbb{E}_{\\boldsymbol{y}^{n}|\\boldsymbol{x}^{n}} \\sum_\\limits{i=1}^n \\Big(\\mathbb{E}_{y_i^*|x_i}y^{*2}_i - 2 a(x_i)\\mathbb{E}_{y_i^*|x_i}y^{*}_i + a(x_i)^2 - y_i^2 + 2 a(x_i) y_i - a(x_i)^2\\Big) = $$\n",
    "$$ = \\frac{2}{n} \\mathbb{E}_{\\boldsymbol{y}^{n}|\\boldsymbol{x}^{n}} \\sum_\\limits{i=1}^n \\Big(a(x_i) y_i -a(x_i)\\mathbb{E}_{y_i^*|x_i}y^{*}_i\\Big) $$\n",
    "\n",
    "Последнее равенство верно, поскольку $y_i^*|x_i$ и $y_i|x_i$ распределены одинаково и не зависимы.\n",
    "\n",
    "$$  \\mathbb{E}_{\\boldsymbol{y}^{n}|\\boldsymbol{x}^{n}} a(x_i) y_i - \n",
    "\\mathbb{E}_{\\boldsymbol{y}^{n}|\\boldsymbol{x}^{n}} a(x_i) \\mathbb{E}_{y_i^*|x_i}y^{*}_i = \n",
    "\\mathbb{E}_{\\boldsymbol{y}^{n}|\\boldsymbol{x}^{n}} a(x_i) \\mathbb{E}_{\\boldsymbol{y}^{n}|\\boldsymbol{x}^{n}} y_i \n",
    "+ cov(y_i, a(x_i))- \n",
    "\\mathbb{E}_{\\boldsymbol{y}^{n}|\\boldsymbol{x}^{n}} a(x_i) \\mathbb{E}_{y_i^*|x_i}y^{*}_i = cov(y_i, a(x_i))$$\n",
    "\n",
    "В итоге:\n",
    "\n",
    "$$\\Delta\\mathcal{R} = \\frac{2}{n} \\sum_\\limits{i=1}^n cov(y_i, a(x_i)) $$\n",
    "\n",
    "### Статистика Маллоу\n",
    "\n",
    "$$\\hat y = a(X) = X\\hat\\beta$$ \n",
    "\n",
    "Обычная регрессия:\n",
    "\n",
    "$$ \\hat\\beta = \\arg \\min_{\\beta\\ \\in\\ \\mathbb{R}^d} \\|X\\beta - y\\|^2 $$\n",
    "\n",
    "$$f(\\beta) = \\|X\\beta - y\\|^2 = \\langle X\\beta - y, X\\beta - y \\rangle$$\n",
    "\n",
    "$$d f(\\beta, d\\beta) = 2\\langle X\\beta - y, Xd\\beta\\rangle = 2\\langle X^TX\\beta - X^Ty, d\\beta\\rangle = 0$$\n",
    "\n",
    "$$\\hat\\beta = (X^TX)^{-1}X^Ty$$\n",
    "\n",
    "$$ a(X) = Sy = X(X^TX)^{-1}X^Ty$$\n",
    "\n",
    "$$ S = X(X^TX)^{-1}X^T$$\n",
    "\n",
    "Гребневая регрессия:\n",
    "\n",
    "$$ \\hat\\beta = \\arg \\min_{\\beta\\ \\in\\ \\mathbb{R}^d} \\|X\\beta - y\\|^2 + \\lambda\\|\\beta\\|^2 $$\n",
    "\n",
    "$$f(\\beta) = \\|X\\beta - y\\|^2 + \\lambda\\|\\beta\\|^2 = \\langle X\\beta - y, X\\beta - y \\rangle + \\lambda\\langle \\beta, \\beta \\rangle$$\n",
    "\n",
    "$$d f(\\beta, d\\beta) = 2\\langle X\\beta - y, Xd\\beta\\rangle + 2\\lambda\\langle \\beta, d\\beta \\rangle = 2\\langle X^TX\\beta - X^Ty + \\lambda\\beta, d\\beta\\rangle = 0$$\n",
    "\n",
    "$$\\hat\\beta = (X^TX + \\lambda I)^{-1}X^Ty$$\n",
    "\n",
    "$$ a(X) = Sy = X(X^TX + \\lambda I)^{-1}X^Ty$$\n",
    "\n",
    "$$ S = X(X^TX + \\lambda I)^{-1}X^T$$\n",
    "\n",
    "$$\\sum_{i=1}^n cov(\\hat y_i, y_i) = \\sum_{i=1}^n cov(\\sum_{j=1}^n s_{ij} y_j, y_i) = \n",
    "\\sum_{i=1}^n \\sum_{j=1}^n s_{ij} cov(y_j, y_i) = \\sum_{i=1}^n \\sum_{j=1}^n s_{ij}\\cdot \\sigma^2\\mathrm{I}(i = j) = \\mathrm{tr}(S) \\sigma^2$$\n",
    "\n",
    "$$\\mathrm{tr}(X(X^TX)^{-1}X^T) = \\mathrm{tr}(X^TX(X^TX)^{-1}) = \\mathrm{tr}(I) = n$$\n",
    "\n",
    "### LOO-проверка\n",
    "\n",
    "$$\\hat{\\mathcal{R}}_{\\mathrm{LOO}}(a; \\boldsymbol{x}^{n}, \\boldsymbol{y}^{n}) = \\frac{1}{n} \\sum_{i = 1}^n (y_i - a(x_i;\\boldsymbol{x}^{(n\\backslash i)}, \\boldsymbol{y}^{(n \\backslash i)}))^2$$\n",
    "\n",
    "Выкинуть $i$-ое эквивалентно занулить $i$-ую строку X и y: \n",
    "$\\ \\ \\ \\boldsymbol{x}^{(n\\backslash i)} = (I - e_ie_i^T)X$,  $\\ \\ \\ \\boldsymbol{y}^{(n \\backslash i)}) = (I - e_ie_i^T)y$\n",
    "\n",
    "$$a(\\boldsymbol{x}_i;\\boldsymbol{x}^{(n\\backslash i)}, \\boldsymbol{y}^{(n \\backslash i)}) = x_i^T (X^T(I - e_ie_i^T)X)^-1X^T(I - e_ie_i^T)y = x_i^T (X^TX - x_ix_i^T)^-1X^T(I - e_ie_i^T)y = $$\n",
    "\n",
    "$$= x_i^T\\Big( (X^TX)^{-1} + \\frac{(X^TX)^{-1}x_ix_i^T(X^TX)^{-1}}{1 - x_i^T(X^TX)^{-1} x_i}\\Big)(X^Ty - x_iy_i)$$\n",
    "\n",
    "Обозначим $B = X(X^TX)^{-1} X^T$\n",
    "\n",
    "$$a(\\boldsymbol{x}_i;\\boldsymbol{x}^{(n\\backslash i)}, \\boldsymbol{y}^{(n \\backslash i)}) =\n",
    "b_i^Ty + \\frac{b_{ii}b_i^Ty}{1 - b_{ii}} - b_{ii}y_i - \\frac{b_{ii}^2y_i}{1 - b_{ii}} = \\frac{b_i^Ty - b_{ii}y_i}{1 - b_{ii}}$$\n",
    "\n",
    "$$\\hat{\\mathcal{R}}_{\\mathrm{LOO}}(a; \\boldsymbol{x}^{n}, \\boldsymbol{y}^{n}) = \\frac{1}{n} \\sum_{i = 1}^n\\Big( y_i - \\frac{b_i^Ty - b_{ii}y_i}{1 - b_{ii}}\\Big)^2 = \\frac{1}{n} \\sum_{i = 1}^n\\Big(\\frac{y_i - b_{i}^Ty}{1 - b_{ii}}\\Big)^2 = \\frac{1}{n} \\sum_{i = 1}^n\\Big(\\frac{y_i - a(x_i;\\boldsymbol{x}^{n}, \\boldsymbol{y}^{n})}{1 - b_{ii}}\\Big)^2$$"
   ]
  },
  {
   "cell_type": "markdown",
   "metadata": {},
   "source": [
    "## Задача 3\n",
    "\n",
    "$$y|X \\sim \\mathcal N(X\\beta, \\sigma^2I)$$\n",
    "\n",
    "Информационный критерий Акаике:\n",
    "\n",
    "$$ S = \\arg\\max_S AIC(X_S, y) = \\arg\\max_S \\left(\\ln \\left( \\max_{\\beta} p(y |X_S, \\beta)\\right)- |S|\\right) = $$\n",
    "$$ = \\arg\\max_S \\left(- \\frac{\\|y - X_S(X_S^TX_S)^{-1}X_S^Ty\\|^2}{2\\sigma^2}- |S| \\right) = \\arg\\min_S \\left(2\\sigma^2|S| +  \\|y - \\hat y_S\\|^2 \\right)$$\n",
    "\n",
    "Пришли к минимизации статистики Mallow $C_p$"
   ]
  },
  {
   "cell_type": "markdown",
   "metadata": {},
   "source": [
    "## Задача 4"
   ]
  },
  {
   "cell_type": "code",
   "execution_count": 1,
   "metadata": {},
   "outputs": [],
   "source": [
    "import pandas as pd\n",
    "import numpy as np\n",
    "\n",
    "from sklearn.utils import shuffle\n",
    "import itertools"
   ]
  },
  {
   "cell_type": "code",
   "execution_count": 2,
   "metadata": {},
   "outputs": [],
   "source": [
    "df = pd.read_csv('prostate.csv', sep='\\t', index_col='Unnamed: 0')\n",
    "y = np.array(df.lpsa)\n",
    "train_indexes = np.array(df.train == 'T')\n",
    "X = np.array(df.drop(labels=['lpsa', 'train'], axis=1))\n",
    "X = np.hstack((X, np.ones((X.shape[0], 1))))\n",
    "X, y, train_indexes = shuffle(X, y, train_indexes, random_state=1)\n",
    "X_train, y_train = X[train_indexes], y[train_indexes]\n",
    "X_test, y_test = X[np.logical_not(train_indexes)], y[np.logical_not(train_indexes)]"
   ]
  },
  {
   "cell_type": "code",
   "execution_count": 3,
   "metadata": {},
   "outputs": [],
   "source": [
    "def exhaustive_search(n):\n",
    "    for size in range(1, n+1):\n",
    "        for indexes in itertools.combinations(range(n), size):\n",
    "            yield indexes\n",
    "\n",
    "def feature_selection(X, y, method='full', score_function=None):\n",
    "    best_score = np.inf\n",
    "    best_indexes = []\n",
    "    \n",
    "    if method == 'add':\n",
    "        indexes_left = set(range(X.shape[1]))\n",
    "        while len(indexes_left) > 0:\n",
    "            current_index = None\n",
    "            for index in indexes_left:\n",
    "                score = score_function(X[:, best_indexes + [index]], y)\n",
    "                if score < best_score:\n",
    "                    current_index = index\n",
    "                    best_score = score\n",
    "            if current_index is not None:\n",
    "                best_indexes.append(current_index)\n",
    "                indexes_left.remove(current_index)\n",
    "            else:\n",
    "                break\n",
    "    \n",
    "    if method == 'del':\n",
    "        indexes_left = set(range(X.shape[1]))\n",
    "        best_score = score_function(X, y)\n",
    "        while len(indexes_left) > 0:\n",
    "            current_index = None\n",
    "            for index in indexes_left:\n",
    "                score = score_function(X[:, list(indexes_left - {index})], y)\n",
    "                if score < best_score:\n",
    "                    current_index = index\n",
    "                    best_score = score\n",
    "            if current_index:\n",
    "                indexes_left.remove(current_index)\n",
    "            else:\n",
    "                best_indexes = indexes_left\n",
    "                break\n",
    "                             \n",
    "    if method == 'full':\n",
    "        for indexes in exhaustive_search(X.shape[1]):\n",
    "            score = score_function(X[:, indexes], y)\n",
    "            if score < best_score:\n",
    "                    best_indexes = indexes\n",
    "                    best_score = score\n",
    "    return sorted(list(best_indexes)), round(best_score, 3)"
   ]
  },
  {
   "cell_type": "code",
   "execution_count": 4,
   "metadata": {},
   "outputs": [],
   "source": [
    "def AIC(X, y):\n",
    "    y_pred = X @ (np.linalg.pinv(X) @ y)\n",
    "    variance = 0.44 # оценка дисперсии, полученная по всей выборке\n",
    "    return X.shape[1] + np.linalg.norm(y - y_pred)**2 / (2 * variance)\n",
    "\n",
    "\n",
    "def BIC(X, y):\n",
    "    y_pred = X @ (np.linalg.pinv(X) @ y)\n",
    "    variance = 0.44 # оценка дисперсии, полученная по всей выборке\n",
    "    return X.shape[1] * np.log(X.shape[0]) + np.linalg.norm(y - y_pred)**2 / (variance)\n",
    "    \n",
    "    \n",
    "def CV(X, y, n_folds=5):\n",
    "    indexes = np.arange(X.shape[0])\n",
    "    train_index = indexes[indexes % n_folds != 0]\n",
    "    test_index = indexes[indexes % n_folds == 0]\n",
    "    error = 0\n",
    "    for i in range(n_folds):\n",
    "        train_index = (train_index + 1) % X.shape[0]\n",
    "        test_index = (test_index + 1) % X.shape[0]\n",
    "        error += np.linalg.norm(X[test_index] @ np.linalg.pinv(X[train_index]) @ y[train_index] - y[test_index])**2/len(test_index)\n",
    "    return error/n_folds\n",
    "\n",
    "\n",
    "def LOO(X, y):\n",
    "    B = X @ np.linalg.pinv(X)\n",
    "    y_pred = B @ y\n",
    "    return np.mean([(y[i] - y_pred[i])**2/(1 - B[i, i]) for i in range(X.shape[0])])\n",
    "\n",
    "\n",
    "CV5 = lambda X, y: CV(X, y, 5)\n",
    "CV10 = lambda X, y: CV(X, y, 10)"
   ]
  },
  {
   "cell_type": "code",
   "execution_count": 5,
   "metadata": {},
   "outputs": [],
   "source": [
    "train_score = pd.DataFrame(columns=['AIC', 'BIC', 'CV5', 'CV10', 'LOO'], index=['add', 'del', 'full'])\n",
    "indexes = train_score.copy()\n",
    "test_score = train_score.copy()\n",
    "for method in ('add', 'del', 'full'):\n",
    "    for score_function, column in zip((AIC, BIC, CV5, CV10, LOO), ('AIC', 'BIC', 'CV5', 'CV10', 'LOO')):\n",
    "        indexes[column][method], train_score[column][method] = \\\n",
    "        feature_selection(X_train, y_train, method=method, score_function=score_function)\n",
    "        \n",
    "        test_score[column][method] = \\\n",
    "        np.mean((y_test - X_test[:, indexes[column][method]] @ np.linalg.pinv(X_train[:, indexes[column][method]]) @ y_train)**2)\n"
   ]
  },
  {
   "cell_type": "code",
   "execution_count": 7,
   "metadata": {},
   "outputs": [
    {
     "data": {
      "text/html": [
       "<div>\n",
       "<style scoped>\n",
       "    .dataframe tbody tr th:only-of-type {\n",
       "        vertical-align: middle;\n",
       "    }\n",
       "\n",
       "    .dataframe tbody tr th {\n",
       "        vertical-align: top;\n",
       "    }\n",
       "\n",
       "    .dataframe thead th {\n",
       "        text-align: right;\n",
       "    }\n",
       "</style>\n",
       "<table border=\"1\" class=\"dataframe\">\n",
       "  <thead>\n",
       "    <tr style=\"text-align: right;\">\n",
       "      <th></th>\n",
       "      <th>AIC</th>\n",
       "      <th>BIC</th>\n",
       "      <th>CV5</th>\n",
       "      <th>CV10</th>\n",
       "      <th>LOO</th>\n",
       "    </tr>\n",
       "  </thead>\n",
       "  <tbody>\n",
       "    <tr>\n",
       "      <th>add</th>\n",
       "      <td>[0, 1, 3, 4]</td>\n",
       "      <td>[0, 1, 3, 4]</td>\n",
       "      <td>[0, 1, 2, 3, 4, 5, 7, 8]</td>\n",
       "      <td>[0, 1, 2, 3, 7]</td>\n",
       "      <td>[0, 1, 2, 3, 4, 5, 7]</td>\n",
       "    </tr>\n",
       "    <tr>\n",
       "      <th>del</th>\n",
       "      <td>[0, 1, 2, 3, 4, 5, 7]</td>\n",
       "      <td>[0, 1, 3, 4]</td>\n",
       "      <td>[0, 1, 2, 3, 4, 5, 7]</td>\n",
       "      <td>[0, 1, 2, 3, 4, 5, 7]</td>\n",
       "      <td>[0, 1, 2, 3, 4, 5, 7]</td>\n",
       "    </tr>\n",
       "    <tr>\n",
       "      <th>full</th>\n",
       "      <td>[0, 1, 2, 3, 4, 5, 7]</td>\n",
       "      <td>[0, 1, 3, 4]</td>\n",
       "      <td>[0, 1, 2, 3, 4, 5, 7]</td>\n",
       "      <td>[0, 1, 2, 3, 4, 5, 7]</td>\n",
       "      <td>[0, 1, 2, 3, 4, 5, 7]</td>\n",
       "    </tr>\n",
       "  </tbody>\n",
       "</table>\n",
       "</div>"
      ],
      "text/plain": [
       "                        AIC           BIC                       CV5  \\\n",
       "add            [0, 1, 3, 4]  [0, 1, 3, 4]  [0, 1, 2, 3, 4, 5, 7, 8]   \n",
       "del   [0, 1, 2, 3, 4, 5, 7]  [0, 1, 3, 4]     [0, 1, 2, 3, 4, 5, 7]   \n",
       "full  [0, 1, 2, 3, 4, 5, 7]  [0, 1, 3, 4]     [0, 1, 2, 3, 4, 5, 7]   \n",
       "\n",
       "                       CV10                    LOO  \n",
       "add         [0, 1, 2, 3, 7]  [0, 1, 2, 3, 4, 5, 7]  \n",
       "del   [0, 1, 2, 3, 4, 5, 7]  [0, 1, 2, 3, 4, 5, 7]  \n",
       "full  [0, 1, 2, 3, 4, 5, 7]  [0, 1, 2, 3, 4, 5, 7]  "
      ]
     },
     "execution_count": 7,
     "metadata": {},
     "output_type": "execute_result"
    }
   ],
   "source": [
    "indexes"
   ]
  },
  {
   "cell_type": "code",
   "execution_count": 8,
   "metadata": {
    "scrolled": true
   },
   "outputs": [
    {
     "data": {
      "text/html": [
       "<div>\n",
       "<style scoped>\n",
       "    .dataframe tbody tr th:only-of-type {\n",
       "        vertical-align: middle;\n",
       "    }\n",
       "\n",
       "    .dataframe tbody tr th {\n",
       "        vertical-align: top;\n",
       "    }\n",
       "\n",
       "    .dataframe thead th {\n",
       "        text-align: right;\n",
       "    }\n",
       "</style>\n",
       "<table border=\"1\" class=\"dataframe\">\n",
       "  <thead>\n",
       "    <tr style=\"text-align: right;\">\n",
       "      <th></th>\n",
       "      <th>AIC</th>\n",
       "      <th>BIC</th>\n",
       "      <th>CV5</th>\n",
       "      <th>CV10</th>\n",
       "      <th>LOO</th>\n",
       "    </tr>\n",
       "  </thead>\n",
       "  <tbody>\n",
       "    <tr>\n",
       "      <th>add</th>\n",
       "      <td>41.395</td>\n",
       "      <td>91.608</td>\n",
       "      <td>0.499</td>\n",
       "      <td>0.516</td>\n",
       "      <td>0.487</td>\n",
       "    </tr>\n",
       "    <tr>\n",
       "      <th>del</th>\n",
       "      <td>40.488</td>\n",
       "      <td>91.608</td>\n",
       "      <td>0.498</td>\n",
       "      <td>0.5</td>\n",
       "      <td>0.487</td>\n",
       "    </tr>\n",
       "    <tr>\n",
       "      <th>full</th>\n",
       "      <td>40.488</td>\n",
       "      <td>91.608</td>\n",
       "      <td>0.498</td>\n",
       "      <td>0.5</td>\n",
       "      <td>0.487</td>\n",
       "    </tr>\n",
       "  </tbody>\n",
       "</table>\n",
       "</div>"
      ],
      "text/plain": [
       "         AIC     BIC    CV5   CV10    LOO\n",
       "add   41.395  91.608  0.499  0.516  0.487\n",
       "del   40.488  91.608  0.498    0.5  0.487\n",
       "full  40.488  91.608  0.498    0.5  0.487"
      ]
     },
     "execution_count": 8,
     "metadata": {},
     "output_type": "execute_result"
    }
   ],
   "source": [
    "train_score"
   ]
  },
  {
   "cell_type": "code",
   "execution_count": 9,
   "metadata": {
    "scrolled": true
   },
   "outputs": [
    {
     "data": {
      "text/html": [
       "<div>\n",
       "<style scoped>\n",
       "    .dataframe tbody tr th:only-of-type {\n",
       "        vertical-align: middle;\n",
       "    }\n",
       "\n",
       "    .dataframe tbody tr th {\n",
       "        vertical-align: top;\n",
       "    }\n",
       "\n",
       "    .dataframe thead th {\n",
       "        text-align: right;\n",
       "    }\n",
       "</style>\n",
       "<table border=\"1\" class=\"dataframe\">\n",
       "  <thead>\n",
       "    <tr style=\"text-align: right;\">\n",
       "      <th></th>\n",
       "      <th>AIC</th>\n",
       "      <th>BIC</th>\n",
       "      <th>CV5</th>\n",
       "      <th>CV10</th>\n",
       "      <th>LOO</th>\n",
       "    </tr>\n",
       "  </thead>\n",
       "  <tbody>\n",
       "    <tr>\n",
       "      <th>add</th>\n",
       "      <td>0.458017</td>\n",
       "      <td>0.458017</td>\n",
       "      <td>0.516513</td>\n",
       "      <td>0.52208</td>\n",
       "      <td>0.52114</td>\n",
       "    </tr>\n",
       "    <tr>\n",
       "      <th>del</th>\n",
       "      <td>0.52114</td>\n",
       "      <td>0.458017</td>\n",
       "      <td>0.52114</td>\n",
       "      <td>0.52114</td>\n",
       "      <td>0.52114</td>\n",
       "    </tr>\n",
       "    <tr>\n",
       "      <th>full</th>\n",
       "      <td>0.52114</td>\n",
       "      <td>0.458017</td>\n",
       "      <td>0.52114</td>\n",
       "      <td>0.52114</td>\n",
       "      <td>0.52114</td>\n",
       "    </tr>\n",
       "  </tbody>\n",
       "</table>\n",
       "</div>"
      ],
      "text/plain": [
       "           AIC       BIC       CV5     CV10      LOO\n",
       "add   0.458017  0.458017  0.516513  0.52208  0.52114\n",
       "del    0.52114  0.458017   0.52114  0.52114  0.52114\n",
       "full   0.52114  0.458017   0.52114  0.52114  0.52114"
      ]
     },
     "execution_count": 9,
     "metadata": {},
     "output_type": "execute_result"
    }
   ],
   "source": [
    "test_score"
   ]
  },
  {
   "cell_type": "markdown",
   "metadata": {},
   "source": [
    "Почти во всех случаях были выбраны признаки 'lcavol', 'lweight', 'age', 'lbph', 'svi', 'lcp', 'pgg45'. Однако на тесте лучше всего себя показали признаки 'lcavol', 'lweight', 'lbph', 'svi', выбранные с помощью BIC, а также с помощью метода add и функционала ошибки AIC"
   ]
  },
  {
   "cell_type": "markdown",
   "metadata": {},
   "source": [
    "## Задача 5\n",
    "\n",
    "Оценка MLE с помощью апостериорного распределения:\n",
    "\n",
    "$$ \\hat\\beta = \\arg \\max_{\\beta \\in \\mathbb R^d} p(\\beta|X, y) = \\arg \\max_{\\beta \\in \\mathbb R^d} p(y|X, \\beta)p(\\beta) = \\arg \\max_{\\beta \\in \\mathbb R^d} \\ln(p(y|X, \\beta)) + \\ln(p(\\beta)) =$$ \n",
    "\n",
    "$$ = \\arg \\max_{\\beta \\in \\mathbb R^d} -\\frac{\\|y - X\\beta\\|^2}{2\\sigma^2} - \\frac{\\|\\beta\\|^2}{2\\tau} = \\arg \\min_{\\beta \\in \\mathbb R^d} \\|y - X\\beta\\|^2 + \\frac{\\sigma^2}{\\tau}\\|\\beta\\|^2$$\n",
    "\n",
    "Пришли к оценке с помощью гребневой регрессии, причём $\\lambda = \\frac{\\sigma^2}{\\tau}$\n",
    "\n",
    "Поскольку апостериорное распределение $\\hat\\beta$ нормальное, то мода совпадает с мат. ожиданием."
   ]
  },
  {
   "cell_type": "markdown",
   "metadata": {},
   "source": [
    "## Задача 7\n",
    "\n",
    "a)\n",
    "\n",
    "$$ \\mathbb{E} \\hat f(x) = \\mathbb{E} \\frac{1}{nh}\\sum_{i=1}^{n} \\mathrm{I}\\left(\\frac{x - x_i}{h} \\in [-\\frac{1}{2}, \\frac{1}{2}]\\right) = \\frac{1}{h}P\\left(\\frac{x - x_1}{h} \\in [-\\frac{1}{2}, \\frac{1}{2}]\\right) = $$\n",
    "\n",
    "$$ = \\frac{1}{h}P\\left( x_1 \\in [x-\\frac{h}{2}, x+\\frac{h}{2}]\\right) = \\frac{1}{h}\\int\\limits_{x-\\frac{h}{2}}^{x+\\frac{h}{2}} f(y)dy$$\n",
    "\n",
    "$$ \\mathbb{V} \\hat f(x) = \\mathbb{V} \\frac{1}{nh}\\sum_{i=1}^{n} \\mathrm{I}\\left(\\frac{x - x_i}{h} \\in [-\\frac{1}{2}, \\frac{1}{2}]\\right) = \\frac{1}{(nh)^2} n \\mathbb{V} \\mathrm{I}\\left(\\frac{x - x_i}{h} \\in [-\\frac{1}{2}, \\frac{1}{2}]\\right) = $$\n",
    "\n",
    "$$ = \\frac{1}{nh^2}\\left(\\ \\  \\int\\limits_{x-\\frac{h}{2}}^{x+\\frac{h}{2}} f(y)dy - \\left(\\int\\limits_{x-\\frac{h}{2}}^{x+\\frac{h}{2}} f(y)dy \\right)^2 \\right)$$\n",
    "\n",
    "Последнее равенство --- диперсия бернулевской сл. величины\n",
    "\n",
    "b)\n",
    "\n",
    "\n",
    "$$ P\\left(\\left|\\hat f(x) - f(x)\\right| > \\varepsilon\\right) = P\\left(\\left|\\hat f(x) - \\mathbb{E} \\hat f(x) + \\mathbb{E} \\hat f(x) - f(x)\\right| > \\varepsilon \\right) \\leq$$ \n",
    "\n",
    "$$\\leq P\\left(\\left|\\hat f(x) - \\mathbb{E} \\hat f(x)\\right| + \\left|\\mathbb{E} \\hat f(x) - f(x)\\right| > \\varepsilon \\right) \\leq \\frac{\\mathbb{V}\\hat f(x)}{\\varepsilon^2}$$\n",
    "\n",
    "\n",
    "$$ \\left|\\mathbb{E} \\hat f(x) - f(x)\\right| = \\left|\\frac{1}{h}\\int\\limits_{x-\\frac{h}{2}}^{x+\\frac{h}{2}} (f(y) - f(x))dy\\right| \\leq \\max_{y \\in [x-\\frac{h}{2}, x+\\frac{h}{2}]} |f(x) - f(y)| = \\delta \\to 0,\\text{ при } h \\to 0$$\n",
    "\n",
    "Здесь предполагаем, что $f$ непрерывна в $x$.\n",
    "\n",
    "Также заметим, что $\\mathbb{V} \\hat f(x) \\leq \\frac{1}{nh} \\mathbb{E} \\hat f(x)$\n",
    "\n",
    "$$ P\\left(\\left|\\hat f(x) - f(x)\\right| > \\varepsilon\\right) \\leq P\\left(\\left|\\hat f(x) - \\mathbb{E} \\hat f(x)\\right| > \\varepsilon - \\left|\\mathbb{E} \\hat f(x) - f(x)\\right|\\right) \\leq \\frac{\\mathbb{V}\\hat f(x)}{(\\varepsilon - \\delta)^2} \\leq \\frac{1}{nh} \\frac{\\mathbb{E} \\hat f(x)}{(\\varepsilon - \\delta)^2} \\to 0,\\text{ при } h \\to 0$$"
   ]
  },
  {
   "cell_type": "markdown",
   "metadata": {},
   "source": [
    "## Задача 8\n"
   ]
  },
  {
   "cell_type": "code",
   "execution_count": 10,
   "metadata": {},
   "outputs": [],
   "source": [
    "import pandas as pd\n",
    "import matplotlib.pyplot as plt\n",
    "import numpy as np\n",
    "from sklearn.neighbors.kde import KernelDensity\n",
    "from sklearn.model_selection import GridSearchCV\n",
    "from sklearn.linear_model import LinearRegression\n",
    "import scipy.stats as sts\n",
    "%matplotlib inline"
   ]
  },
  {
   "cell_type": "code",
   "execution_count": 11,
   "metadata": {},
   "outputs": [],
   "source": [
    "df = pd.read_csv('glass.dat', delim_whitespace=True)\n",
    "X = np.array(df.RI).reshape(df.shape[0], 1)\n",
    "np.random.shuffle(X)"
   ]
  },
  {
   "cell_type": "code",
   "execution_count": 12,
   "metadata": {
    "scrolled": false
   },
   "outputs": [
    {
     "data": {
      "image/png": "[encoded data removed]",
      "text/plain": [
       "<Figure size 1152x720 with 1 Axes>"
      ]
     },
     "metadata": {},
     "output_type": "display_data"
    }
   ],
   "source": [
    "def J(bins, h):\n",
    "    n = bins.sum()\n",
    "    return 2 / ((n - 1) * h) - (n + 1) / (h * (n - 1)) * np.sum(bins ** 2) \n",
    "\n",
    "a = X.min()\n",
    "b = X.max()\n",
    "\n",
    "best_h = 0\n",
    "best_J = -np.inf\n",
    "best_bins = 0\n",
    "\n",
    "for h in np.linspace(0.1, 5, 50):\n",
    "    bins = np.histogram(X, density=True, bins = int((b - a)//h))\n",
    "    j = J(bins[0], h)\n",
    "    if j > best_J:\n",
    "        best_J = j\n",
    "        best_h = h\n",
    "        best_bins = bins\n",
    "\n",
    "\n",
    "m = best_bins[0].size\n",
    "c = -sts.norm.ppf(0.025/m) * np.sqrt(m/X.size/(b-a)) / 2\n",
    "l = np.max([np.sqrt(best_bins[0]) - c, np.zeros(m)], axis=0)**2\n",
    "u = np.min([np.sqrt(best_bins[0]) + c, np.ones(m)], axis=0)**2\n",
    "\n",
    "plt.figure(figsize=(16, 10))\n",
    "plt.bar(x=best_bins[1][:-1] + best_h/2, \n",
    "        height=best_bins[0], \n",
    "        width=best_h,\n",
    "        yerr=(best_bins[0] - l, u - best_bins[0]))\n",
    "plt.title('Гистаграмная оценка плотности, ширина столбца {}'.format(best_h))\n",
    "plt.show()"
   ]
  },
  {
   "cell_type": "code",
   "execution_count": 13,
   "metadata": {
    "scrolled": false
   },
   "outputs": [],
   "source": [
    "cv = GridSearchCV(estimator=KernelDensity(), \n",
    "                  param_grid={'bandwidth' : np.linspace(0.1, 5, 50)}, \n",
    "                  cv=10)\n",
    "cv.fit(X)\n",
    "\n",
    "x_plot = np.linspace(-10, 20, 300)\n",
    "y_plot = np.exp(cv.best_estimator_.score_samples(x_plot.reshape(x_plot.size, 1)))\n",
    "h = cv.best_params_['bandwidth']\n",
    "n = X.size\n",
    "\n",
    "def se(x):\n",
    "    Y_mean = np.mean([sts.norm.pdf((x-X.T[0][i])/h)/h for i in range(n)])\n",
    "    return 1/np.sqrt(n*(n-1)) * np.linalg.norm([sts.norm.pdf((x-X.T[0][i])/h)/h - Y_mean for i in range(n)])\n",
    "\n",
    "se_plot = np.array([se(x) for x in x_plot])\n",
    "q = sts.norm.ppf((1 + 0.05**(3*h/(b-a)))/2)\n",
    "\n",
    "l = y_plot - q * se_plot\n",
    "u = y_plot + q * se_plot"
   ]
  },
  {
   "cell_type": "code",
   "execution_count": 14,
   "metadata": {},
   "outputs": [
    {
     "data": {
      "image/png": "[encoded data removed]",
      "text/plain": [
       "<Figure size 1152x720 with 1 Axes>"
      ]
     },
     "metadata": {},
     "output_type": "display_data"
    }
   ],
   "source": [
    "plt.figure(figsize=(16, 10))\n",
    "plt.fill_between(x_plot, l, u, alpha=0.5)\n",
    "plt.plot(x_plot, y_plot)\n",
    "plt.title('Ядерная оценка плотности с гауссовсим ядром: ширина окна {}'.format(cv.best_params_['bandwidth']))\n",
    "plt.show()"
   ]
  }
 ],
 "metadata": {
  "kernelspec": {
   "display_name": "Python 3",
   "language": "python",
   "name": "python3"
  },
  "language_info": {
   "codemirror_mode": {
    "name": "ipython",
    "version": 3
   },
   "file_extension": ".py",
   "mimetype": "text/x-python",
   "name": "python",
   "nbconvert_exporter": "python",
   "pygments_lexer": "ipython3",
   "version": "3.5.2"
  }
 },
 "nbformat": 4,
 "nbformat_minor": 2
}
