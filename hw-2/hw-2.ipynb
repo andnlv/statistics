{
 "cells": [
  {
   "cell_type": "markdown",
   "metadata": {},
   "source": [
    "# Домашнее задание по статистике №2"
   ]
  },
  {
   "cell_type": "markdown",
   "metadata": {},
   "source": [
    "## Задача 1\n",
    "\n",
    "$$\\mathbf{X_n} = \\big\\{X_1, \\dots, X_n\\big\\} \\sim \\mathcal{N}(\\theta, 1),\\ Y = \\mathsf{I}(X > 0)$$\n",
    "\n",
    "$$ \\psi = P(Y = 1) = P(X > 0) = P(X - \\theta > -\\theta) = P(X - \\theta < \\theta)$$\n",
    "\n",
    "Обозначения: $\\ \\ \\widehat\\psi_n$ - MLE оценка $\\psi;\\ \\ \\ \\ \\widetilde\\psi_n = \\overline{\\mathbf{Y_n}};\\ \\ \\ \\ \\widehat\\theta_n = \\overline{\\mathbf{X_n}}$ - MLE оценка $\\theta$.\n",
    "\n",
    "(a) Как показано выше $\\psi = F(\\theta)$, где $F$ - функция распределения $\\mathcal{N}(0, 1)$. $\\widehat\\psi_n$ - MLE оценка, поэтому $\\widehat\\psi_n = F(\\widehat\\theta_n)$.\n",
    "\n",
    "(b) Оценка стандартного отклонения $\\widehat\\psi_n$:\n",
    "\n",
    "$$\\hat{se} \\widehat\\psi_n = se \\widehat\\theta_n\\cdot F'\\left(\\widehat\\theta_n\\right)\\ = \\frac{p\\left(\\widehat\\theta_n\\right)}{\\sqrt{n}} = \\frac{1}{\\sqrt{2\\pi n}}\\exp\\left(-\\frac{\\widehat\\theta_n^2}{2}\\right)$$ \n",
    "\n",
    "Поскольку $\\widehat\\psi_n$ ассимптотически нормальна, то границы приближенного 95% доверительного интервала:\n",
    "\n",
    "$$ \\widehat\\psi_n \\pm \\frac{2}{\\sqrt{2\\pi n}}\\exp\\left(-\\frac{\\widehat\\theta_n^2}{2}\\right) $$\n",
    "\n",
    "(c) По закону больших чисел $\\tilde\\psi_n \\overset{p}{\\to} \\mathsf{E}Y = \\psi$, следовательно оценка состоятельная.\n",
    "\n",
    "(d) $\\psi_n$ - бернулевская сл. в., поэтому\n",
    "$$ se \\tilde\\psi_n = \\sqrt{\\frac{\\psi(1-\\psi)}{n}} = \\sqrt{\\frac{F(\\theta)(1-F(\\theta))}{n}}$$\n",
    "\n",
    "$$ \\tilde{se} \\widetilde\\psi_n = \\sqrt{\\frac{\\widetilde\\psi_n(1-\\widetilde\\psi_n)}{n}}$$\n",
    "$$ARE(\\widehat\\psi_n, \\widetilde\\psi_n) = \\frac{se^2 \\widetilde\\psi_n}{se^2 \\widehat\\psi_n} = 2\\pi F(\\theta)\\left(1-F(\\theta)\\right)\\exp\\left(\\theta^2\\right)$$"
   ]
  },
  {
   "cell_type": "markdown",
   "metadata": {},
   "source": [
    "## Задача 2\n",
    "\n",
    "$f(x) = p^{x}(1-p)^{n - x}C_n^x$ - плотность биномиального распределения\n",
    "\n",
    "$$\\frac{\\partial \\ln f}{\\partial p} = \\frac{x}{p} - \\frac{n - x}{1 - p} = 0$$\n",
    "\n",
    "$$\\widehat p = \\frac{x}{n}$$\n",
    "\n",
    "$$\\widehat\\psi = \\frac{X_1}{n_1} + \\frac{X_2}{n_2}$$\n",
    "\n",
    "Информационная матрица фишера:\n",
    "\n",
    "$$\\frac{\\partial^2 \\ln f}{\\partial p^2} = -\\frac{x}{p^2} - \\frac{n-x}{(1-p)^2}$$\n",
    "\n",
    "$$\\mathsf{E} \\frac{\\partial^2 \\ln f}{\\partial p^2} = -\\frac{n}{p} - \\frac{n}{1 - p}$$\n",
    "\n",
    "$$I(p1, p2) = \\begin{pmatrix} \\frac{n_1}{p_1} + \\frac{n_1}{1 - p_1} & 0 \\\\ 0 & \\frac{n_2}{p_2} + \\frac{n_2}{1 - p_2} \\end{pmatrix}$$\n",
    "\n",
    "$$I^{-1}(p1, p2) = \\begin{pmatrix} \\frac{p_1(1 - p_1)}{n_1} & 0 \\\\ 0 & \\frac{p_2(1 - p_2)}{n_2} \\end{pmatrix}$$\n",
    "\n",
    "$$\\nabla\\psi = \\begin{pmatrix} 1 \\\\ -1 \\end{pmatrix}$$\n",
    "\n",
    "Стандартное отклонение оценки:\n",
    "\n",
    "$$ se \\widehat\\psi = \\sqrt{\\nabla\\psi^T I^{-1}(p1, p2) \\nabla\\psi} = \\sqrt{\\frac{p_1(1 - p_1)}{n_1} + \\frac{p_2(1 - p_2)}{n_2}}$$\n",
    "\n",
    "Подставляя числа получаем:\n",
    "\n",
    "$\\widehat\\psi =  0.06$\n",
    "\n",
    "$$ \\hat{se} \\widehat\\psi = \\sqrt{\\frac{X_1(n_1 - X_1)}{n_1^3} + \\frac{X_2(n_2 - X_2)}{n_2^3}} \\approx 0.042 $$\n",
    "\n",
    "И того, 90% доверительный интервал $(0.06 - 0.42*1.64, 0.06 + 0.42*1.64) = (-0.01, 0.13)$\n",
    "\n",
    "Теперь посторим его с помощью бутсрепа"
   ]
  },
  {
   "cell_type": "code",
   "execution_count": 59,
   "metadata": {},
   "outputs": [
    {
     "name": "stdout",
     "output_type": "stream",
     "text": [
      "Доверительный интервал с помощью параметрического бутстрепа: (-0.01, 0.13)\n"
     ]
    }
   ],
   "source": [
    "import numpy as np\n",
    "n, X1, X2 = 200, 160, 148\n",
    "b = 10000\n",
    "B = (np.random.binomial(n, X1/n, [b]) - np.random.binomial(n, X2/n, [b]))/n\n",
    "print('Доверительный интервал с помощью параметрического бутстрепа: ({}, {})'. \\\n",
    "      format(np.percentile(B, 5), np.percentile(B, 95)))"
   ]
  },
  {
   "cell_type": "markdown",
   "metadata": {},
   "source": [
    "## Задача 3\n",
    "\n",
    "$$\\beta(\\theta) = P(Y > c) = \\left(1 - \\left(\\frac{c}{\\theta}\\right)^n\\right) \\mathsf{I}(0 < c < \\theta) + \\mathsf{I}(c \\leq 0)$$\n",
    "\n",
    "$$1 - (2c)^n = 0.05$$\n",
    "\n",
    "$$ c = \\frac{0.95^{1/n}}{2} $$\n",
    "\n",
    "Подставляя числа получаем:\n",
    "1. $\\text{p-value} = P(Y > 0.48) = 0.56$ ничего сказать о гипотезе $H_0$ нельзя\n",
    "2. $\\text{p-value} = P(Y > 0.52) = 0$ гипотеза $H_0$ неверна"
   ]
  },
  {
   "cell_type": "markdown",
   "metadata": {},
   "source": [
    "## Задача 4\n",
    "\n",
    "$$\\mathbf{X_n} = \\big\\{X_1, \\dots, X_n\\big\\} \\sim Poisson(\\lambda)$$\n",
    "\n",
    "MLE оценка $\\lambda$:\n",
    "$$\\widehat\\lambda_n = \\overline{\\mathbf{X_n}}$$\n",
    "\n",
    "$$se \\widehat\\lambda_n = \\frac{\\lambda}{\\sqrt{n}}$$\n",
    "\n",
    "Тест размера $\\alpha$: отвергаем $H_0$, если $\\widehat\\lambda_n$ не попадает в интеревал $\\left(\\lambda_0 - z_{\\alpha/2}\\frac{\\lambda_0}{\\sqrt{n}}, \\lambda_0 + z_{\\alpha/2}\\frac{\\lambda_0}{\\sqrt{n}}\\right)$, где $z_\\alpha$ - $\\alpha$ кванить стандартного нормально распределения."
   ]
  },
  {
   "cell_type": "code",
   "execution_count": 169,
   "metadata": {},
   "outputs": [
    {
     "name": "stdout",
     "output_type": "stream",
     "text": [
      "Доля случаев, когда H_0 отвергается - 0.05485\n"
     ]
    }
   ],
   "source": [
    "N = 100000\n",
    "n = 20\n",
    "X = np.random.poisson(1, (n, N))\n",
    "Y = np.abs(X.mean(axis=0) - 1) > 1.96/np.sqrt(n)\n",
    "print('Доля случаев, когда H_0 отвергается -', Y.mean())"
   ]
  },
  {
   "cell_type": "markdown",
   "metadata": {},
   "source": [
    "То, что вероятность сильно отличается от 0.05, связано с тем, что распределение пуассона сильно перекошено и не успевает сойтись к нормальному при $n = 20$. Соответственно использовать критерий вальда для построения критерия для $P_I$ не имеет смысла"
   ]
  },
  {
   "cell_type": "markdown",
   "metadata": {},
   "source": [
    "## Задача 5\n",
    "\n",
    "Логично предположить, что критическая область должна иметь вид $\\{(X_1, \\cdots, X_n) : \\overline{\\mathbf{X_n}} >  c\\}$, $c \\in [a_0, a_1]$. Поскольку при увеличении $c$, вероятность ошибки первого рода монотонно убывает, а вероятность ошибки второго рода монотонно возрастает, то для наилучшей критической облати:\n",
    "$$\\alpha = P\\left(\\overline{\\mathbf{X_n}} > c\\right) = P\\left(\\frac{\\sigma\\xi}{\\sqrt{n}} + a_0 > c\\right) = \n",
    "1 - P\\left(\\xi < \\frac{\\sqrt{n}(c - a)}{\\sigma}\\right) = 1 - F\\left(\\frac{\\sqrt{n}(c - a)}{\\sigma}\\right)$$\n",
    "\n",
    "$$ c = \\frac{\\sigma Z_{1 - \\alpha}}{\\sqrt{n}} + a_0 $$\n",
    "\n",
    "Тут $\\xi \\sim \\mathcal{N}(0, 1)$; $Z_{1 - \\alpha}$ - квантиль стандартного нормального распределения."
   ]
  }
 ],
 "metadata": {
  "kernelspec": {
   "display_name": "Python 3",
   "language": "python",
   "name": "python3"
  },
  "language_info": {
   "codemirror_mode": {
    "name": "ipython",
    "version": 3
   },
   "file_extension": ".py",
   "mimetype": "text/x-python",
   "name": "python",
   "nbconvert_exporter": "python",
   "pygments_lexer": "ipython3",
   "version": "3.5.2"
  }
 },
 "nbformat": 4,
 "nbformat_minor": 2
}
